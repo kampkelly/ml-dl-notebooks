{
 "cells": [
  {
   "cell_type": "code",
   "execution_count": 1,
   "metadata": {
    "_cell_guid": "b1076dfc-b9ad-4769-8c92-a6c4dae69d19",
    "_uuid": "8f2839f25d086af736a60e9eeb907d3b93b6e0e5"
   },
   "outputs": [
    {
     "name": "stdout",
     "output_type": "stream",
     "text": [
      "['train.csv', 'sample_submission.csv', 'test.csv']\n"
     ]
    }
   ],
   "source": [
    "# This Python 3 environment comes with many helpful analytics libraries installed\n",
    "# It is defined by the kaggle/python docker image: https://github.com/kaggle/docker-python\n",
    "# For example, here's several helpful packages to load in \n",
    "\n",
    "import numpy as np # linear algebra\n",
    "import pandas as pd # data processing, CSV file I/O (e.g. pd.read_csv)\n",
    "\n",
    "# Input data files are available in the \"../input/\" directory.\n",
    "# For example, running this (by clicking run or pressing Shift+Enter) will list the files in the input directory\n",
    "\n",
    "import os\n",
    "print(os.listdir(\"../input\"))\n",
    "\n",
    "# Any results you write to the current directory are saved as output."
   ]
  },
  {
   "cell_type": "code",
   "execution_count": 2,
   "metadata": {
    "_uuid": "5d026c404c83cb173d7987e477833996010973c3"
   },
   "outputs": [],
   "source": [
    "training_set = pd.read_csv(\"../input/train.csv\")\n",
    "test_set = pd.read_csv(\"../input/test.csv\")\n",
    "sample_set = pd.read_csv(\"../input/sample_submission.csv\")"
   ]
  },
  {
   "cell_type": "code",
   "execution_count": 3,
   "metadata": {
    "_uuid": "99d51f2ca10df065d91334dd1f545c48b4b9819f"
   },
   "outputs": [],
   "source": [
    "real_test_set = test_set.iloc[:,1:].values"
   ]
  },
  {
   "cell_type": "code",
   "execution_count": 4,
   "metadata": {
    "_uuid": "b69d77800871dd9671a88c45a0ea1181d5005d89"
   },
   "outputs": [],
   "source": [
    "X = training_set.iloc[:,2:].values\n",
    "y = training_set.iloc[:,1].values"
   ]
  },
  {
   "cell_type": "code",
   "execution_count": 5,
   "metadata": {
    "_uuid": "718757a35a66ee491437ac1f5d4d8b046fc5ad51"
   },
   "outputs": [],
   "source": [
    "# new_X = (X - np.min(X)) / (np.max(X) - np.min(X))\n",
    "# new_X\n",
    "# from sklearn.feature_selection import SelectKBest\n",
    "# from sklearn.feature_selection import chi2\n",
    "# # Feature extraction\n",
    "# test = SelectKBest(score_func=chi2, k=150)\n",
    "# fit = test.fit(new_X, y)\n",
    "\n",
    "# # Summarize scores\n",
    "# np.set_printoptions(precision=3)\n",
    "# print(fit.scores_)\n",
    "\n",
    "# features = fit.transform(new_X)\n",
    "# X = features\n",
    "# # Summarize selected features\n",
    "# print(features[0:5,:])"
   ]
  },
  {
   "cell_type": "code",
   "execution_count": 6,
   "metadata": {
    "_uuid": "28c55196f2b5fa4e2d338614d19f1e8803f0d0bf"
   },
   "outputs": [],
   "source": [
    "# ### see adjusted r squared\n",
    "# import statsmodels.api as sm\n",
    "# X = sm.add_constant(X)\n",
    "# model = sm.OLS(y, X).fit()\n",
    "# x = model.summary()\n",
    "# x.as_csv"
   ]
  },
  {
   "cell_type": "code",
   "execution_count": 7,
   "metadata": {
    "_uuid": "7c1ee51b9235bda45910cdc7191d8f9a02f12a59"
   },
   "outputs": [],
   "source": [
    "# split into training, validation and test set\n",
    "from sklearn.model_selection import train_test_split\n",
    "X_train, X_test, y_train, y_test = train_test_split(X, y, test_size = 0.2, random_state = 0)\n",
    "X_train, X_val, y_train, y_val = train_test_split(X_train, y_train, test_size=0.2, random_state=0)"
   ]
  },
  {
   "cell_type": "code",
   "execution_count": 8,
   "metadata": {
    "_uuid": "7135e7c965b97ea6e4a45baaad0193d88d15f738"
   },
   "outputs": [],
   "source": [
    "# apply feature scaling\n",
    "from sklearn.preprocessing import StandardScaler\n",
    "sc = StandardScaler()\n",
    "X_train = sc.fit_transform(X_train)\n",
    "X_val = sc.transform(X_val)\n",
    "X_test = sc.transform(X_test)\n",
    "real_test_set = sc.transform(real_test_set)"
   ]
  },
  {
   "cell_type": "code",
   "execution_count": 9,
   "metadata": {
    "_uuid": "bb329dc5a7c72bb96db3cbd0e2475fab27b4b5f8"
   },
   "outputs": [],
   "source": [
    "# # Applying PCA\n",
    "# from sklearn.decomposition import PCA\n",
    "# pca = PCA(n_components = 140)\n",
    "# # X_train = X_train.dropna(inplace=True)\n",
    "# X_train = pca.fit_transform(X_train) #pca is unsupervised, so we don't fit y_train here\n",
    "# X_val = pca.transform(X_val)\n",
    "# X_test = pca.transform(X_test)\n",
    "# # real_test_set = pca.transform(real_test_set)"
   ]
  },
  {
   "cell_type": "code",
   "execution_count": 10,
   "metadata": {
    "_uuid": "8b4e30fb9e201b60948a6e8fb4e8e9cb3cca3694"
   },
   "outputs": [],
   "source": [
    "# # Fitting XGBoost to the Training set\n",
    "# from xgboost import XGBClassifier\n",
    "# classifier = XGBClassifier(n_jobs=-1, verbosity=3)\n",
    "# classifier.fit(X_train, y_train)"
   ]
  },
  {
   "cell_type": "code",
   "execution_count": 11,
   "metadata": {
    "_uuid": "e2daa98afa98a1aa0db2186a3b8b73ea29120458"
   },
   "outputs": [],
   "source": [
    "# Applying light gbm model\n",
    "import lightgbm as lgb\n",
    "d_train = lgb.Dataset(X_train, label=y_train)\n",
    "params = {}\n",
    "params['learning_rate'] = 0.1\n",
    "params['boosting_type'] = 'gbdt'\n",
    "params['objective'] = 'binary'\n",
    "params['metric'] = 'binary_logloss'\n",
    "params['sub_feature'] = 0.5\n",
    "# params['lambda_l1'] = 0.03\n",
    "params['lambda_l2'] = 0.05\n",
    "params['num_leaves'] = 50\n",
    "params['min_data'] = 50\n",
    "params['max_depth'] = 15\n",
    "# params['max_bin'] = 255\n",
    "classifier = lgb.train(params, d_train, 700)"
   ]
  },
  {
   "cell_type": "code",
   "execution_count": 12,
   "metadata": {
    "_uuid": "dbd9acef4f1da074502fadf0f369d34ade4f5f4d"
   },
   "outputs": [],
   "source": [
    "# # Applying light gbm model from sklearn\n",
    "# import lightgbm as lgbm\n",
    "# # from lightgbm import LGBMClassifier\n",
    "# classifier = lgbm.LGBMClassifier(\n",
    "#     learning_rate=0.1,\n",
    "#     boosting_type='gbdt', \n",
    "#     objective='binary',\n",
    "#     metric='binary_logloss',\n",
    "#     sub_feature=0.5,\n",
    "#     reg_alpha=0.1,\n",
    "#     reg_lambda=0.1,\n",
    "#     num_leaves=50,\n",
    "#     min_data=50,\n",
    "#     max_depth=15,\n",
    "#     num_estimators=400\n",
    "# )\n",
    "# classifier.fit(X_train, y_train)"
   ]
  },
  {
   "cell_type": "code",
   "execution_count": 13,
   "metadata": {
    "_uuid": "88e9ffbe5c303a013489956502b533d018708df8"
   },
   "outputs": [],
   "source": [
    "# # Grid search using lgb\n",
    "# # # Tuning the ANN\n",
    "# from sklearn.model_selection import GridSearchCV\n",
    "# parameters = [{'metric': ['binary_logloss'], 'num_leaves': [40], 'min_data': [40]},\n",
    "#                {'metric': ['binary_logloss'], 'num_leaves': [50], 'min_data': [50]},\n",
    "#                {'metric': ['binary_logloss'], 'num_leaves': [60], 'min_data': [60]},\n",
    "#                {'metric': ['binary_logloss'], 'num_leaves': [70], 'min_data': [70]}, ]\n",
    "# grid_search = GridSearchCV(estimator = classifier,\n",
    "#                            param_grid = parameters,\n",
    "#                            scoring = ['accuracy', 'roc_auc'],\n",
    "#                            cv = 3,\n",
    "#                            verbose = 10)\n",
    "# grid_search.fit(X_train, y_train)\n",
    "\n",
    "# # best_parameters = grid_search.best_params_\n",
    "# # best_accuracy = grid_search.best_score_\n",
    "# # (best_parameters, best_accuracy)\n",
    "# # summarize results\n",
    "# print(\"Best: %f using %s\" % (grid_result.best_score_, grid_result.best_params_))\n",
    "# means = grid_result.cv_results_['mean_test_score']\n",
    "# stds = grid_result.cv_results_['std_test_score']\n",
    "# params = grid_result.cv_results_['params']\n",
    "# for mean, stdev, param in zip(means, stds, params):\n",
    "#     print(\"%f (%f) with: %r\" % (mean, stdev, param))"
   ]
  },
  {
   "cell_type": "markdown",
   "metadata": {
    "_uuid": "1d354a4e55ce9e28597f59305d46ef903a1bc328"
   },
   "source": [
    "### *using validation set*\n"
   ]
  },
  {
   "cell_type": "code",
   "execution_count": 14,
   "metadata": {
    "_uuid": "94c334eef5c5cd7a4547bbb17e5e4e19684e849d"
   },
   "outputs": [
    {
     "data": {
      "text/plain": [
       "0.8851237975969695"
      ]
     },
     "execution_count": 14,
     "metadata": {},
     "output_type": "execute_result"
    }
   ],
   "source": [
    "# using validation set\n",
    "val_pred = classifier.predict(X_val)\n",
    "# area under the curve\n",
    "from sklearn.metrics import roc_auc_score\n",
    "from sklearn.metrics import confusion_matrix\n",
    "# val_cm = confusion_matrix(y_val, val_pred)\n",
    "val_a_uc = roc_auc_score(y_val, val_pred)\n",
    "# (val_a_uc, val_cm)\n",
    "val_a_uc"
   ]
  },
  {
   "cell_type": "code",
   "execution_count": 15,
   "metadata": {
    "_uuid": "d5e8a6d02f767482c2f6a8d9160cceaf71231781"
   },
   "outputs": [],
   "source": [
    "# # Plotting the area under the curve with validation set\n",
    "# import matplotlib.pyplot as plt\n",
    "# from sklearn.metrics import roc_curve, auc\n",
    "# fpr, tpr, thresholds = roc_curve(y_val, val_pred)\n",
    "# roc_auc = auc(fpr, tpr)\n",
    "\n",
    "# plt.figure()\n",
    "# lw = 2\n",
    "# plt.plot([0, 1], [0, 1], color='navy', lw=lw, linestyle='--')\n",
    "# plt.plot(fpr, tpr, color='darkorange', lw=lw, marker='o', label='ROC curve (area = %0.2f)' % roc_auc)\n",
    "# plt.xlim([0.0, 1.0])\n",
    "# plt.ylim([0.0, 1.05])\n",
    "# plt.xlabel('False Positive Rate')\n",
    "# plt.ylabel('True Positive Rate')\n",
    "# plt.title('Receiver operating characteristic')\n",
    "# plt.legend(loc=\"lower right\")\n",
    "# plt.show()"
   ]
  },
  {
   "cell_type": "markdown",
   "metadata": {
    "_uuid": "dbfdbfb01eeb88ba87718633163b3a503b438ac1"
   },
   "source": [
    "### using test set"
   ]
  },
  {
   "cell_type": "code",
   "execution_count": 16,
   "metadata": {
    "_uuid": "d2b570e589b4ee22e393ed884c1f1e5e6bd250ca"
   },
   "outputs": [],
   "source": [
    "# # using test set\n",
    "# y_pred = classifier.predict(X_test)\n",
    "# test_cm = confusion_matrix(y_test, y_pred)\n",
    "# test_a_uc = roc_auc_score(y_test, y_pred)\n",
    "# (test_a_uc, test_cm)"
   ]
  },
  {
   "cell_type": "code",
   "execution_count": 17,
   "metadata": {
    "_uuid": "12c612247895a9fc36c19c62b25aa2aa51910667"
   },
   "outputs": [],
   "source": [
    "# # Plotting the area under the curve with test set\n",
    "# import matplotlib.pyplot as plt\n",
    "# from sklearn.metrics import roc_curve, auc\n",
    "# fpr, tpr, thresholds = roc_curve(y_test, y_pred)\n",
    "# roc_auc = auc(fpr, tpr)\n",
    "\n",
    "# plt.figure()\n",
    "# lw = 2\n",
    "# plt.plot([0, 1], [0, 1], color='navy', lw=lw, linestyle='--')\n",
    "# plt.plot(fpr, tpr, color='darkorange', lw=lw, marker='o', label='ROC curve (area = %0.2f)' % roc_auc)\n",
    "# plt.xlim([0.0, 1.0])\n",
    "# plt.ylim([0.0, 1.05])\n",
    "# plt.xlabel('False Positive Rate')\n",
    "# plt.ylabel('True Positive Rate')\n",
    "# plt.title('Receiver operating characteristic')\n",
    "# plt.legend(loc=\"lower right\")\n",
    "# plt.show()"
   ]
  },
  {
   "cell_type": "code",
   "execution_count": 18,
   "metadata": {
    "_kg_hide-input": true,
    "_kg_hide-output": true,
    "_uuid": "6042a3d2291571e73e72ba0f4c335a55bd9f048a"
   },
   "outputs": [],
   "source": [
    "# real_pred = classifier.predict(real_test_set)\n",
    "# id_codes = []\n",
    "# for i in range(0, 200000):\n",
    "#     key = 'test_' + str(i)\n",
    "#     id_codes.append(key)\n",
    "# predictions = np.reshape(real_pred, (-1, 1))\n",
    "# predictions = np.insert(predictions, 0, values=3, axis=1)\n",
    "# predictions_df = pd.DataFrame(predictions, index=np.arange(1,200001), columns=['ID_code', 'target'])\n",
    "# predictions_df[\"ID_code\"] = id_codes\n",
    "# predictions_df.to_csv('submission.csv', index=False)\n",
    "# # predictions_df"
   ]
  },
  {
   "cell_type": "code",
   "execution_count": 19,
   "metadata": {
    "_uuid": "6345d10d680afd2707c5ec038418f76ed4773d35"
   },
   "outputs": [],
   "source": [
    "# results of confusion matrix\n",
    "# Decision tree = 0.8366875\n",
    "# Random forest: val_set = 0.89971875, test_set = 0.899925\n",
    "# Xgboost: val_set = 0.9010625\n",
    "\n",
    "# results of roc\n",
    "# xgboost_val =  0.5076391594720207\n",
    "# xgboost_test = 0.5091621607483905\n",
    "# lightgbm: val: 0.8610609924277948"
   ]
  },
  {
   "cell_type": "code",
   "execution_count": 20,
   "metadata": {
    "_uuid": "23ac51f796392020b4fcad98530a870905c6245d"
   },
   "outputs": [],
   "source": [
    "# Applying k-Fold Cross Validation\n",
    "# from sklearn.model_selection import cross_val_score\n",
    "# accuracies = cross_val_score(estimator = classifier, X = X_train, y = y_train, cv = 10, verbose = 3, n_jobs = -1, scoring='roc_auc')\n",
    "# accuracies.mean()\n",
    "# accuracies.std()"
   ]
  },
  {
   "cell_type": "markdown",
   "metadata": {
    "_uuid": "5ab2d9019ac727001a9ddea91130744ab6c9632f"
   },
   "source": [
    "## Apply an artificial neural network"
   ]
  },
  {
   "cell_type": "code",
   "execution_count": 21,
   "metadata": {
    "_uuid": "1b7fec9c4382cb39b704465cf91e1aa4b4004eaa"
   },
   "outputs": [],
   "source": [
    "# # Importing the Keras libraries and packages\n",
    "# import keras\n",
    "# from keras.models import Sequential\n",
    "# from keras.layers import Dense\n",
    "# from keras.layers import Dropout\n",
    "# from keras import regularizers\n",
    "\n",
    "# # Initialising the ANN\n",
    "# classifier = Sequential()\n",
    "\n",
    "# # Adding the input layer and the first hidden layer\n",
    "# classifier.add(Dense(units = 32, kernel_initializer = 'uniform', activation = 'relu', kernel_regularizer=regularizers.l1_l2(l1=0.001, l2=0.001), input_dim = 200))\n",
    "# #classifier.add(Dropout(0.2))\n",
    "\n",
    "# # Adding the second hidden layer\n",
    "# classifier.add(Dense(units = 32, kernel_initializer = 'uniform', activation = 'relu', kernel_regularizer=regularizers.l1_l2(l1=0.001, l2=0.001)))\n",
    "# #classifier.add(Dropout(0.2))\n",
    "# # classifier.add(Dense(units = 32, kernel_initializer = 'uniform', activation = 'relu', kernel_regularizer=regularizers.l1_l2(l1=0.001, l2=0.001)))\n",
    "\n",
    "# # Adding the third hidden layer\n",
    "# classifier.add(Dense(units = 32, kernel_initializer = 'uniform', activation = 'relu', kernel_regularizer=regularizers.l1_l2(l1=0.001, l2=0.001)))\n",
    "# #classifier.add(Dropout(0.2))\n",
    "\n",
    "# # Adding the output layer\n",
    "# classifier.add(Dense(units = 1, kernel_initializer = 'uniform', activation = 'sigmoid'))"
   ]
  },
  {
   "cell_type": "code",
   "execution_count": 22,
   "metadata": {
    "_uuid": "ea2a1a75d9e94b51dbeaa3cf83833fc46082a928",
    "scrolled": true
   },
   "outputs": [],
   "source": [
    "# # import tensorflow as tf\n",
    "# # from sklearn.metrics import roc_auc_score\n",
    "# # def auroc(y_true, y_pred):\n",
    "#     # return tf.py_func(roc_auc_score, (y_true, y_pred), tf.double)\n",
    "\n",
    "# # Compiling the ANN\n",
    "# from keras import optimizers\n",
    "# adam = optimizers.Adam(lr=0.0083, beta_1=0.9, beta_2=0.999, epsilon=None, decay=0.0, amsgrad=False)\n",
    "# classifier.compile(optimizer = 'adam', loss = 'binary_crossentropy', metrics = ['accuracy'])\n",
    "# # Fit the ANN\n",
    "# classifier.fit(X_train, y_train, batch_size = 50, epochs = 30, verbose = 2)"
   ]
  },
  {
   "cell_type": "markdown",
   "metadata": {
    "_uuid": "8bbb80c940715fa1a31a069cbeefa3dd1d444658"
   },
   "source": [
    "## Tuning the ann"
   ]
  },
  {
   "cell_type": "code",
   "execution_count": 23,
   "metadata": {
    "_uuid": "d22b28c9a3561b6da6d0df1ca7e31f856aa1ed87"
   },
   "outputs": [],
   "source": [
    "# # Tuning the ANN\n",
    "# from keras.wrappers.scikit_learn import KerasClassifier\n",
    "# from sklearn.model_selection import GridSearchCV\n",
    "# from keras.models import Sequential\n",
    "# from keras.layers import Dense\n",
    "# from keras.layers import Dropout\n",
    "# from keras import regularizers\n",
    "# import multiprocessing\n",
    "# from sklearn.externals.joblib import parallel_backend\n",
    "# from time import sleep\n",
    "# from joblib import Parallel, delayed\n",
    "# def build_classifier(optimizer):\n",
    "#     classifier = Sequential()\n",
    "#     classifier.add(Dense(units = 64, kernel_initializer = 'uniform', activation = 'relu', kernel_regularizer=regularizers.l1_l2(l1=0.001, l2=0.001), input_dim = 200))\n",
    "#     classifier.add(Dense(units = 64, kernel_initializer = 'uniform', activation = 'relu', kernel_regularizer=regularizers.l1_l2(l1=0.001, l2=0.001)))\n",
    "#     classifier.add(Dense(units = 32, kernel_initializer = 'uniform', activation = 'relu', kernel_regularizer=regularizers.l1_l2(l1=0.001, l2=0.001)))\n",
    "#     classifier.add(Dense(units = 1, kernel_initializer = 'uniform', activation = 'sigmoid'))\n",
    "#     classifier.compile(optimizer = optimizer, loss = 'binary_crossentropy', metrics = ['accuracy'])\n",
    "#     return classifier\n",
    "# classifier = KerasClassifier(build_fn = build_classifier)\n",
    "# parameters = {'batch_size': [40, 50, 100],\n",
    "#               'epochs': [30, 50, 80],\n",
    "#               'optimizer': ['adam', 'rmsprop']}\n",
    "# grid_search = GridSearchCV(estimator = classifier,\n",
    "#                            param_grid = parameters,\n",
    "#                            scoring = 'accuracy',\n",
    "#                            cv = 3,\n",
    "# #                            n_jobs = 1,\n",
    "#                            verbose = 10)\n",
    "# # with parallel_backend('multiprocessing'):\n",
    "# #     grid_search.fit(X_train, y_train)\n",
    "# # Parallel(n_jobs=3, backend=\"multiprocessing\")(delayed(grid_search.fit(X_train, y_train)))\n",
    "# # grid_result = grid_search.fit(X_train, y_train)\n",
    "# grid_search.fit(X_train, y_train)\n",
    "\n",
    "# # best_parameters = grid_search.best_params_\n",
    "# # best_accuracy = grid_search.best_score_\n",
    "# # (best_parameters, best_accuracy)\n",
    "# # summarize results\n",
    "# print(\"Best: %f using %s\" % (grid_result.best_score_, grid_result.best_params_))\n",
    "# means = grid_result.cv_results_['mean_test_score']\n",
    "# stds = grid_result.cv_results_['std_test_score']\n",
    "# params = grid_result.cv_results_['params']\n",
    "# for mean, stdev, param in zip(means, stds, params):\n",
    "#     print(\"%f (%f) with: %r\" % (mean, stdev, param))"
   ]
  },
  {
   "cell_type": "markdown",
   "metadata": {
    "_uuid": "631d372531a41319073e6e5537d6b50afcf2cded"
   },
   "source": [
    "## Cross-validation"
   ]
  },
  {
   "cell_type": "code",
   "execution_count": 24,
   "metadata": {
    "_uuid": "1cdb2582c3bc354ef5f72c8adcb9e01f56c90a4d"
   },
   "outputs": [],
   "source": [
    "# # cross validate ANN\n",
    "# from keras.wrappers.scikit_learn import KerasClassifier\n",
    "# import keras\n",
    "# from keras.models import Sequential\n",
    "# from keras.layers import Dense\n",
    "# from keras.layers import Dropout\n",
    "# from keras import regularizers\n",
    "# from sklearn.model_selection import cross_val_score\n",
    "# def build_classifier():\n",
    "#     classifier = Sequential()\n",
    "#     classifier.add(Dense(units = 64, kernel_initializer = 'uniform', activation = 'relu', kernel_regularizer=regularizers.l1_l2(l1=0.001, l2=0.001), input_dim = 200))\n",
    "#     classifier.add(Dense(units = 64, kernel_initializer = 'uniform', activation = 'relu', kernel_regularizer=regularizers.l1_l2(l1=0.001, l2=0.001)))\n",
    "#     classifier.add(Dense(units = 32, kernel_initializer = 'uniform', activation = 'relu', kernel_regularizer=regularizers.l1_l2(l1=0.001, l2=0.001)))\n",
    "#     classifier.add(Dense(units = 1, kernel_initializer = 'uniform', activation = 'sigmoid'))\n",
    "#     classifier.compile(optimizer = 'adam', loss = 'binary_crossentropy', metrics = ['accuracy'])\n",
    "#     return classifier\n",
    "\n",
    "# classifier = KerasClassifier(build_fn = build_classifier, batch_size=100, epochs = 30)\n",
    "# accuracies = cross_val_score(estimator = classifier, X = X_train, y = y_train, cv = 3, verbose=2)\n",
    "# mean = accuracies.mean()\n",
    "# variance = accuracies.std()"
   ]
  },
  {
   "cell_type": "markdown",
   "metadata": {
    "_uuid": "a7a4941cac860a94e8a7305128afc55c8861ac68"
   },
   "source": [
    "## Predictions"
   ]
  },
  {
   "cell_type": "code",
   "execution_count": 25,
   "metadata": {
    "_uuid": "722fafb622311fb3e415d36a28e785c6b1eab315",
    "scrolled": true
   },
   "outputs": [
    {
     "data": {
      "text/plain": [
       "0.8851237975969695"
      ]
     },
     "execution_count": 25,
     "metadata": {},
     "output_type": "execute_result"
    }
   ],
   "source": [
    "from sklearn.metrics import roc_auc_score\n",
    "from sklearn.metrics import confusion_matrix\n",
    "# Predicting the validation set results\n",
    "val_pred = classifier.predict(X_val)\n",
    "val_pred = np.reshape(val_pred, 32000)\n",
    "# val_pred = np.around(val_pred, decimals=-2).astype(int)\n",
    "# Making the Confusion Matrix\n",
    "from sklearn.metrics import confusion_matrix\n",
    "# val_cm = confusion_matrix(y_val, val_pred)\n",
    "val_a_uc = roc_auc_score(y_val, val_pred)\n",
    "# (val_a_uc, val_cm)\n",
    "val_a_uc"
   ]
  },
  {
   "cell_type": "code",
   "execution_count": 26,
   "metadata": {
    "_uuid": "358af5241a3791c0a8625cfc0ef0d00d6d72e81d"
   },
   "outputs": [
    {
     "data": {
      "image/png": "[encoded data removed]",
      "text/plain": [
       "<Figure size 432x288 with 1 Axes>"
      ]
     },
     "metadata": {},
     "output_type": "display_data"
    }
   ],
   "source": [
    "# Plotting the area under the curve with validation set\n",
    "import matplotlib.pyplot as plt\n",
    "from sklearn.metrics import roc_curve, auc\n",
    "fpr, tpr, thresholds = roc_curve(y_val, val_pred)\n",
    "roc_auc = auc(fpr, tpr)\n",
    "\n",
    "plt.figure()\n",
    "lw = 2\n",
    "plt.plot([0, 1], [0, 1], color='navy', lw=lw, linestyle='--')\n",
    "plt.plot(fpr, tpr, color='darkorange', lw=lw, marker='o', label='ROC curve (area = %0.2f)' % roc_auc)\n",
    "plt.xlim([0.0, 1.0])\n",
    "plt.ylim([0.0, 1.05])\n",
    "plt.xlabel('False Positive Rate')\n",
    "plt.ylabel('True Positive Rate')\n",
    "plt.title('Receiver operating characteristic')\n",
    "plt.legend(loc=\"lower right\")\n",
    "plt.show()"
   ]
  },
  {
   "cell_type": "code",
   "execution_count": 27,
   "metadata": {
    "_uuid": "b7a1449c7cb076a5d6084525f05c90911c11e764"
   },
   "outputs": [
    {
     "data": {
      "text/plain": [
       "0.8806019716298352"
      ]
     },
     "execution_count": 27,
     "metadata": {},
     "output_type": "execute_result"
    }
   ],
   "source": [
    "# Predicting the test set results\n",
    "y_pred = classifier.predict(X_test)\n",
    "y_pred = np.reshape(y_pred, 40000)\n",
    "# y_pred = np.around(y_pred, decimals=-2).astype(int)\n",
    "# Making the Confusion Matrix\n",
    "# test_cm = confusion_matrix(y_test, y_pred)\n",
    "test_a_uc = roc_auc_score(y_test, y_pred)\n",
    "# (test_a_uc, test_cm)\n",
    "test_a_uc"
   ]
  },
  {
   "cell_type": "code",
   "execution_count": 28,
   "metadata": {
    "_uuid": "23443fc59f0b921311dafdd8cc367d0ffbe1a54c"
   },
   "outputs": [
    {
     "data": {
      "image/png": "[encoded data removed]",
      "text/plain": [
       "<Figure size 432x288 with 1 Axes>"
      ]
     },
     "metadata": {},
     "output_type": "display_data"
    }
   ],
   "source": [
    "# Plotting the area under the curve with test set\n",
    "import matplotlib.pyplot as plt\n",
    "from sklearn.metrics import roc_curve, auc\n",
    "fpr, tpr, thresholds = roc_curve(y_test, y_pred)\n",
    "roc_auc = auc(fpr, tpr)\n",
    "\n",
    "plt.figure()\n",
    "lw = 2\n",
    "plt.plot([0, 1], [0, 1], color='navy', lw=lw, linestyle='--')\n",
    "plt.plot(fpr, tpr, color='darkorange', lw=lw, marker='o', label='ROC curve (area = %0.2f)' % roc_auc)\n",
    "plt.xlim([0.0, 1.0])\n",
    "plt.ylim([0.0, 1.05])\n",
    "plt.xlabel('False Positive Rate')\n",
    "plt.ylabel('True Positive Rate')\n",
    "plt.title('Receiver operating characteristic')\n",
    "plt.legend(loc=\"lower right\")\n",
    "plt.show()"
   ]
  },
  {
   "cell_type": "code",
   "execution_count": 29,
   "metadata": {
    "_uuid": "a9ead1d0b855352641e153157d859f869fc9b89c"
   },
   "outputs": [],
   "source": [
    "# using adam\n",
    "# using dropout of 0.2\n",
    "# val: 0.8219703092136943\n",
    "# test: 0.8184382643851061\n",
    "# using l2 regularization of \n",
    "# (0.001 val: 0.8514070212752984), (0.002 val: 0.8522397124920501)\n",
    "# using l2 and l1 regularization\n",
    "# val: 0.8523018854700104, using 100epochs: 0.8519824055995491\n",
    "# b:40,e:30 val:0.849410565838969\n",
    "# b:40,e:50 val:0.8524478473924889\n",
    "# b:40,e:80 val:0.8527870805309873\n",
    "# b:50,e:50 val:0.8529468069291648\n",
    "# b:100,e:30 val:0.852986280976311\n",
    "\n",
    "\n",
    "\n",
    "\n",
    "\n",
    "\n",
    "\n",
    "# (of li:0.001, l2: 0.002, val: 0.8510900592967333)\n",
    "\n",
    "# using rmsprop\n",
    "# val: 0.8067250585832222\n",
    "# test: 0.8038354740235442"
   ]
  },
  {
   "cell_type": "code",
   "execution_count": 30,
   "metadata": {
    "_uuid": "4a3d1fc5636d3e21510ad2d187e9f219ded12740"
   },
   "outputs": [],
   "source": [
    "real_pred = classifier.predict(real_test_set)\n",
    "# real_pred = real_pred = np.around(real_pred, decimals=-2).astype(int)\n",
    "id_codes = []\n",
    "for i in range(0, 200000):\n",
    "    key = 'test_' + str(i)\n",
    "    id_codes.append(key)\n",
    "predictions = np.reshape(real_pred, (-1, 1))\n",
    "predictions = np.insert(predictions, 0, values=3, axis=1)\n",
    "predictions_df = pd.DataFrame(predictions, index=np.arange(1,200001), columns=['ID_code', 'target'])\n",
    "predictions_df[\"ID_code\"] = id_codes\n",
    "predictions_df.to_csv('submission.csv', index=False)\n",
    "# predictions_df"
   ]
  },
  {
   "cell_type": "markdown",
   "metadata": {
    "_uuid": "8e601305963c650a16a6dd08945b550f59a3d131"
   },
   "source": [
    "## saving the model"
   ]
  },
  {
   "cell_type": "code",
   "execution_count": 31,
   "metadata": {
    "_uuid": "a22e54331dfcfcb5ac9e0853dcf910a8e2ad0ef6"
   },
   "outputs": [],
   "source": [
    "# filename = \"binary_classifier_model.sav\"\n",
    "# from sklearn.externals import joblib\n",
    "# # save the model to disk\n",
    "# joblib.dump(classifier, filename)\n",
    "# # load the model from disk\n",
    "# loaded_model = joblib.load(filename)"
   ]
  }
 ],
 "metadata": {
  "kernelspec": {
   "display_name": "Python 3",
   "language": "python",
   "name": "python3"
  },
  "language_info": {
   "codemirror_mode": {
    "name": "ipython",
    "version": 3
   },
   "file_extension": ".py",
   "mimetype": "text/x-python",
   "name": "python",
   "nbconvert_exporter": "python",
   "pygments_lexer": "ipython3",
   "version": "3.6.6"
  }
 },
 "nbformat": 4,
 "nbformat_minor": 1
}
